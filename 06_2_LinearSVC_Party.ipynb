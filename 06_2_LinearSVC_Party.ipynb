{
 "cells": [
  {
   "cell_type": "markdown",
   "metadata": {},
   "source": [
    "# 06_Linear_SVC\n",
    "## Ray Hossain"
   ]
  },
  {
   "cell_type": "markdown",
   "metadata": {},
   "source": [
    "## Setup"
   ]
  },
  {
   "cell_type": "code",
   "execution_count": 1,
   "metadata": {},
   "outputs": [],
   "source": [
    "import pandas as pd\n",
    "from sklearn.model_selection import train_test_split\n",
    "from sklearn.svm import LinearSVC\n",
    "from sklearn.metrics import classification_report, accuracy_score, f1_score, precision_score, recall_score\n",
    "from sklearn.feature_extraction.text import TfidfVectorizer\n",
    "import nltk\n",
    "#nltk.download('stopwords')\n",
    "from nltk.corpus import stopwords\n",
    "import numpy as np\n",
    "import matplotlib.pyplot as plt\n",
    "import itertools\n",
    "from sklearn.preprocessing import StandardScaler, OneHotEncoder\n",
    "from sklearn.pipeline import Pipeline\n",
    "from sklearn.compose import ColumnTransformer\n"
   ]
  },
  {
   "cell_type": "markdown",
   "metadata": {},
   "source": [
    "### Loading"
   ]
  },
  {
   "cell_type": "code",
   "execution_count": 2,
   "metadata": {},
   "outputs": [],
   "source": [
    "news = pd.read_csv(\"Processed_Data/51_textscored_wide.csv\")"
   ]
  },
  {
   "cell_type": "code",
   "execution_count": 3,
   "metadata": {},
   "outputs": [],
   "source": [
    "#news.head()"
   ]
  },
  {
   "cell_type": "markdown",
   "metadata": {},
   "source": [
    "## Linear SVC but with columns & TF-IDF Aggregation"
   ]
  },
  {
   "cell_type": "code",
   "execution_count": 16,
   "metadata": {},
   "outputs": [
    {
     "data": {
      "text/plain": [
       "Index(['personid', 'duration', 'text_clean', 'secondvote', 'vote_left',\n",
       "       'vote_green', 'vote_spd', 'vote_na_other', 'vote_fdp', 'vote_cdu',\n",
       "       'vote_afd', 'news_proportion', 'age', 'ml_gender_female', 'ml_married',\n",
       "       'ml_relationship', 'ml_employ', 'ml_degreestatus',\n",
       "       'ml_political_interest', 'adjustedvote', 'polinterest',\n",
       "       'adjustedincome', 'fgender', 'fvoceduc', 'frelationship',\n",
       "       'fmaritalstatus', 'femployment', 'tf_idf_mean',\n",
       "       'tf_idf_entity_weighted', 'tf_idf_importance_weighted', 'left_right'],\n",
       "      dtype='object')"
      ]
     },
     "execution_count": 16,
     "metadata": {},
     "output_type": "execute_result"
    }
   ],
   "source": [
    "news.columns "
   ]
  },
  {
   "cell_type": "code",
   "execution_count": 17,
   "metadata": {},
   "outputs": [
    {
     "name": "stdout",
     "output_type": "stream",
     "text": [
      "      duration\n",
      "0     111731.0\n",
      "1       5429.0\n",
      "2       1317.0\n",
      "3       1548.0\n",
      "4        792.0\n",
      "...        ...\n",
      "1339       NaN\n",
      "1340       NaN\n",
      "1341       NaN\n",
      "1342       NaN\n",
      "1343       NaN\n",
      "\n",
      "[1344 rows x 1 columns]\n"
     ]
    }
   ],
   "source": [
    "import pandas as pd\n",
    "\n",
    "# Assuming 'news' is your DataFrame\n",
    "\n",
    "# Check which columns have any NA values\n",
    "columns_with_na = news.isna().any()\n",
    "\n",
    "# Filter to get the columns that have any NA values (where True)\n",
    "df_with_na_columns = news.loc[:, columns_with_na]\n",
    "\n",
    "# Output the result\n",
    "print(df_with_na_columns)\n"
   ]
  },
  {
   "cell_type": "code",
   "execution_count": 18,
   "metadata": {},
   "outputs": [],
   "source": [
    "# Set all NA values in the DataFrame to 0\n",
    "news = news.fillna(0)\n"
   ]
  },
  {
   "cell_type": "markdown",
   "metadata": {},
   "source": [
    "Attempting with just (semi) continuous variables."
   ]
  },
  {
   "cell_type": "code",
   "execution_count": 19,
   "metadata": {},
   "outputs": [],
   "source": [
    "\n",
    "# Define predictors (y variables)\n",
    "predictors = [\"secondvote\"]\n",
    "\n",
    "# Feature sets\n",
    "features_list = [\n",
    "    'duration', 'news_proportion', 'age', 'ml_gender_female', 'ml_married', 'ml_relationship',\n",
    "    'ml_employ', 'ml_degreestatus', 'ml_political_interest', 'polinterest', 'adjustedincome']\n",
    "\n",
    "must_include_list = ['tf_idf_mean', 'tf_idf_entity_weighted', 'tf_idf_importance_weighted']\n",
    "\n",
    "# Identify categorical and continuous features\n",
    "categorical_features = ['polinterest', 'adjustedincome'] \n",
    "continuous_features = ['duration', 'news_proportion', 'age'] + must_include_list\n",
    "\n",
    "# Generate feature subsets ensuring at least one 'must_include' feature is present\n",
    "feature_combinations = []\n",
    "for r in range(1, len(features_list) + 1):\n",
    "    for subset in itertools.combinations(features_list, r):\n",
    "        for must_include in must_include_list:\n",
    "            feature_combinations.append(list(subset) + [must_include])\n",
    "\n",
    "# Remove duplicates and ensure valid features only\n",
    "feature_combinations = [list(set(fc)) for fc in feature_combinations]\n",
    "feature_combinations = [list(fc) for fc in set(tuple(sorted(fc)) for fc in feature_combinations)]\n",
    "\n",
    "# Track results\n",
    "results = []\n",
    "\n",
    "# Train models for each feature combination and predictor\n",
    "for y_var in predictors:\n",
    "    for feature_set in feature_combinations:\n",
    "        # Ensure selected features exist in the dataset\n",
    "        valid_features = [feat for feat in feature_set if feat in news.columns]\n",
    "        X = news[valid_features]\n",
    "        y = news[y_var]\n",
    "\n",
    "        # Encode categorical target\n",
    "        y = (y == y.unique()[1]).astype(int)\n",
    "\n",
    "        # Train-test split\n",
    "        X_train, X_test, y_train, y_test = train_test_split(X, y, test_size=0.2, random_state=42, stratify=y)\n",
    "        \n",
    "        # Preprocessing pipeline\n",
    "        preprocessor = ColumnTransformer(transformers=[\n",
    "            ('num', StandardScaler(), [feat for feat in valid_features if feat in continuous_features]),\n",
    "            ('cat', OneHotEncoder(handle_unknown='ignore'), [feat for feat in valid_features if feat in categorical_features])\n",
    "        ])\n",
    "\n",
    "\n",
    "        model = Pipeline([\n",
    "            ('preprocessor', preprocessor),\n",
    "            ('classifier', LinearSVC(dual=False, max_iter=5000, class_weight='balanced'))\n",
    "        ])\n",
    "\n",
    "        # Train model\n",
    "        model.fit(X_train, y_train)\n",
    "\n",
    "        # Predict and evaluate\n",
    "        y_pred = model.predict(X_test)\n",
    "        f1 = f1_score(y_test, y_pred)\n",
    "        accuracy = accuracy_score(y_test, y_pred)\n",
    "        precision = precision_score(y_test, y_pred)\n",
    "        recall = recall_score(y_test, y_pred)\n",
    "\n",
    "        # Store results\n",
    "        results.append((y_var, valid_features, f1, precision, recall, accuracy))\n",
    "\n",
    "# Sort and get top 5 results\n",
    "top_5_results = sorted(results, key=lambda x: x[2], reverse=True)\n",
    "\n",
    "# Convert to DataFrame and display\n",
    "top_5_df = pd.DataFrame(top_5_results, columns=['Predictor', 'Features', 'F1 Score', 'Precision', 'Recall', 'Accuracy'])\n",
    "\n"
   ]
  },
  {
   "cell_type": "code",
   "execution_count": 20,
   "metadata": {},
   "outputs": [
    {
     "data": {
      "text/html": [
       "<div>\n",
       "<style scoped>\n",
       "    .dataframe tbody tr th:only-of-type {\n",
       "        vertical-align: middle;\n",
       "    }\n",
       "\n",
       "    .dataframe tbody tr th {\n",
       "        vertical-align: top;\n",
       "    }\n",
       "\n",
       "    .dataframe thead th {\n",
       "        text-align: right;\n",
       "    }\n",
       "</style>\n",
       "<table border=\"1\" class=\"dataframe\">\n",
       "  <thead>\n",
       "    <tr style=\"text-align: right;\">\n",
       "      <th></th>\n",
       "      <th>Predictor</th>\n",
       "      <th>Features</th>\n",
       "      <th>F1 Score</th>\n",
       "      <th>Precision</th>\n",
       "      <th>Recall</th>\n",
       "      <th>Accuracy</th>\n",
       "    </tr>\n",
       "  </thead>\n",
       "  <tbody>\n",
       "    <tr>\n",
       "      <th>0</th>\n",
       "      <td>secondvote</td>\n",
       "      <td>[adjustedincome, age, ml_employ, news_proporti...</td>\n",
       "      <td>0.360248</td>\n",
       "      <td>0.25</td>\n",
       "      <td>0.644444</td>\n",
       "      <td>0.6171</td>\n",
       "    </tr>\n",
       "    <tr>\n",
       "      <th>129</th>\n",
       "      <td>secondvote</td>\n",
       "      <td>[adjustedincome, age, ml_employ, ml_gender_fem...</td>\n",
       "      <td>0.360248</td>\n",
       "      <td>0.25</td>\n",
       "      <td>0.644444</td>\n",
       "      <td>0.6171</td>\n",
       "    </tr>\n",
       "    <tr>\n",
       "      <th>163</th>\n",
       "      <td>secondvote</td>\n",
       "      <td>[adjustedincome, age, duration, ml_degreestatu...</td>\n",
       "      <td>0.360248</td>\n",
       "      <td>0.25</td>\n",
       "      <td>0.644444</td>\n",
       "      <td>0.6171</td>\n",
       "    </tr>\n",
       "    <tr>\n",
       "      <th>164</th>\n",
       "      <td>secondvote</td>\n",
       "      <td>[adjustedincome, age, duration, ml_degreestatu...</td>\n",
       "      <td>0.360248</td>\n",
       "      <td>0.25</td>\n",
       "      <td>0.644444</td>\n",
       "      <td>0.6171</td>\n",
       "    </tr>\n",
       "    <tr>\n",
       "      <th>165</th>\n",
       "      <td>secondvote</td>\n",
       "      <td>[adjustedincome, age, duration, ml_employ, ml_...</td>\n",
       "      <td>0.360248</td>\n",
       "      <td>0.25</td>\n",
       "      <td>0.644444</td>\n",
       "      <td>0.6171</td>\n",
       "    </tr>\n",
       "  </tbody>\n",
       "</table>\n",
       "</div>"
      ],
      "text/plain": [
       "      Predictor                                           Features  F1 Score  \\\n",
       "0    secondvote  [adjustedincome, age, ml_employ, news_proporti...  0.360248   \n",
       "129  secondvote  [adjustedincome, age, ml_employ, ml_gender_fem...  0.360248   \n",
       "163  secondvote  [adjustedincome, age, duration, ml_degreestatu...  0.360248   \n",
       "164  secondvote  [adjustedincome, age, duration, ml_degreestatu...  0.360248   \n",
       "165  secondvote  [adjustedincome, age, duration, ml_employ, ml_...  0.360248   \n",
       "\n",
       "     Precision    Recall  Accuracy  \n",
       "0         0.25  0.644444    0.6171  \n",
       "129       0.25  0.644444    0.6171  \n",
       "163       0.25  0.644444    0.6171  \n",
       "164       0.25  0.644444    0.6171  \n",
       "165       0.25  0.644444    0.6171  "
      ]
     },
     "execution_count": 20,
     "metadata": {},
     "output_type": "execute_result"
    }
   ],
   "source": [
    "top_5_df.sort_values(by='F1 Score', ascending=False).head()"
   ]
  },
  {
   "cell_type": "code",
   "execution_count": 21,
   "metadata": {},
   "outputs": [
    {
     "data": {
      "text/html": [
       "<div>\n",
       "<style scoped>\n",
       "    .dataframe tbody tr th:only-of-type {\n",
       "        vertical-align: middle;\n",
       "    }\n",
       "\n",
       "    .dataframe tbody tr th {\n",
       "        vertical-align: top;\n",
       "    }\n",
       "\n",
       "    .dataframe thead th {\n",
       "        text-align: right;\n",
       "    }\n",
       "</style>\n",
       "<table border=\"1\" class=\"dataframe\">\n",
       "  <thead>\n",
       "    <tr style=\"text-align: right;\">\n",
       "      <th></th>\n",
       "      <th>Predictor</th>\n",
       "      <th>Features</th>\n",
       "      <th>F1 Score</th>\n",
       "      <th>Precision</th>\n",
       "      <th>Recall</th>\n",
       "      <th>Accuracy</th>\n",
       "    </tr>\n",
       "  </thead>\n",
       "  <tbody>\n",
       "    <tr>\n",
       "      <th>259</th>\n",
       "      <td>secondvote</td>\n",
       "      <td>[adjustedincome, ml_degreestatus, ml_gender_fe...</td>\n",
       "      <td>0.343949</td>\n",
       "      <td>0.241071</td>\n",
       "      <td>0.6</td>\n",
       "      <td>0.6171</td>\n",
       "    </tr>\n",
       "    <tr>\n",
       "      <th>319</th>\n",
       "      <td>secondvote</td>\n",
       "      <td>[adjustedincome, ml_degreestatus, ml_employ, m...</td>\n",
       "      <td>0.343949</td>\n",
       "      <td>0.241071</td>\n",
       "      <td>0.6</td>\n",
       "      <td>0.6171</td>\n",
       "    </tr>\n",
       "    <tr>\n",
       "      <th>322</th>\n",
       "      <td>secondvote</td>\n",
       "      <td>[adjustedincome, ml_degreestatus, ml_employ, m...</td>\n",
       "      <td>0.343949</td>\n",
       "      <td>0.241071</td>\n",
       "      <td>0.6</td>\n",
       "      <td>0.6171</td>\n",
       "    </tr>\n",
       "    <tr>\n",
       "      <th>325</th>\n",
       "      <td>secondvote</td>\n",
       "      <td>[adjustedincome, ml_employ, ml_married, ml_pol...</td>\n",
       "      <td>0.343949</td>\n",
       "      <td>0.241071</td>\n",
       "      <td>0.6</td>\n",
       "      <td>0.6171</td>\n",
       "    </tr>\n",
       "    <tr>\n",
       "      <th>326</th>\n",
       "      <td>secondvote</td>\n",
       "      <td>[adjustedincome, news_proportion, tf_idf_entit...</td>\n",
       "      <td>0.343949</td>\n",
       "      <td>0.241071</td>\n",
       "      <td>0.6</td>\n",
       "      <td>0.6171</td>\n",
       "    </tr>\n",
       "  </tbody>\n",
       "</table>\n",
       "</div>"
      ],
      "text/plain": [
       "      Predictor                                           Features  F1 Score  \\\n",
       "259  secondvote  [adjustedincome, ml_degreestatus, ml_gender_fe...  0.343949   \n",
       "319  secondvote  [adjustedincome, ml_degreestatus, ml_employ, m...  0.343949   \n",
       "322  secondvote  [adjustedincome, ml_degreestatus, ml_employ, m...  0.343949   \n",
       "325  secondvote  [adjustedincome, ml_employ, ml_married, ml_pol...  0.343949   \n",
       "326  secondvote  [adjustedincome, news_proportion, tf_idf_entit...  0.343949   \n",
       "\n",
       "     Precision  Recall  Accuracy  \n",
       "259   0.241071     0.6    0.6171  \n",
       "319   0.241071     0.6    0.6171  \n",
       "322   0.241071     0.6    0.6171  \n",
       "325   0.241071     0.6    0.6171  \n",
       "326   0.241071     0.6    0.6171  "
      ]
     },
     "execution_count": 21,
     "metadata": {},
     "output_type": "execute_result"
    }
   ],
   "source": [
    "# Filter rows where 'Features' contains 'tf_idf_entity_weighted'\n",
    "filtered_df = top_5_df[top_5_df['Features'].apply(lambda x: 'tf_idf_entity_weighted' in x)]\n",
    "filtered_df_sorted = filtered_df.sort_values(by='F1 Score', ascending=False)\n",
    "filtered_df_sorted.head()\n"
   ]
  },
  {
   "cell_type": "code",
   "execution_count": 22,
   "metadata": {},
   "outputs": [
    {
     "data": {
      "text/plain": [
       "[['adjustedincome',\n",
       "  'ml_degreestatus',\n",
       "  'ml_gender_female',\n",
       "  'ml_married',\n",
       "  'ml_political_interest',\n",
       "  'ml_relationship',\n",
       "  'news_proportion',\n",
       "  'tf_idf_entity_weighted']]"
      ]
     },
     "execution_count": 22,
     "metadata": {},
     "output_type": "execute_result"
    }
   ],
   "source": [
    "list(filtered_df_sorted['Features'][0:1])"
   ]
  },
  {
   "cell_type": "markdown",
   "metadata": {},
   "source": [
    "The below seems to suggest that importance_weighted comes off slightly higher in terms of F1 scores"
   ]
  },
  {
   "cell_type": "code",
   "execution_count": 23,
   "metadata": {},
   "outputs": [
    {
     "data": {
      "text/html": [
       "<div>\n",
       "<style scoped>\n",
       "    .dataframe tbody tr th:only-of-type {\n",
       "        vertical-align: middle;\n",
       "    }\n",
       "\n",
       "    .dataframe tbody tr th {\n",
       "        vertical-align: top;\n",
       "    }\n",
       "\n",
       "    .dataframe thead th {\n",
       "        text-align: right;\n",
       "    }\n",
       "</style>\n",
       "<table border=\"1\" class=\"dataframe\">\n",
       "  <thead>\n",
       "    <tr style=\"text-align: right;\">\n",
       "      <th></th>\n",
       "      <th>Predictor</th>\n",
       "      <th>Features</th>\n",
       "      <th>F1 Score</th>\n",
       "      <th>Precision</th>\n",
       "      <th>Recall</th>\n",
       "      <th>Accuracy</th>\n",
       "    </tr>\n",
       "  </thead>\n",
       "  <tbody>\n",
       "    <tr>\n",
       "      <th>256</th>\n",
       "      <td>secondvote</td>\n",
       "      <td>[adjustedincome, news_proportion, tf_idf_impor...</td>\n",
       "      <td>0.343949</td>\n",
       "      <td>0.241071</td>\n",
       "      <td>0.6</td>\n",
       "      <td>0.6171</td>\n",
       "    </tr>\n",
       "    <tr>\n",
       "      <th>328</th>\n",
       "      <td>secondvote</td>\n",
       "      <td>[adjustedincome, ml_employ, ml_married, ml_rel...</td>\n",
       "      <td>0.343949</td>\n",
       "      <td>0.241071</td>\n",
       "      <td>0.6</td>\n",
       "      <td>0.6171</td>\n",
       "    </tr>\n",
       "    <tr>\n",
       "      <th>331</th>\n",
       "      <td>secondvote</td>\n",
       "      <td>[adjustedincome, ml_married, ml_political_inte...</td>\n",
       "      <td>0.343949</td>\n",
       "      <td>0.241071</td>\n",
       "      <td>0.6</td>\n",
       "      <td>0.6171</td>\n",
       "    </tr>\n",
       "    <tr>\n",
       "      <th>333</th>\n",
       "      <td>secondvote</td>\n",
       "      <td>[adjustedincome, ml_employ, ml_married, ml_pol...</td>\n",
       "      <td>0.343949</td>\n",
       "      <td>0.241071</td>\n",
       "      <td>0.6</td>\n",
       "      <td>0.6171</td>\n",
       "    </tr>\n",
       "    <tr>\n",
       "      <th>334</th>\n",
       "      <td>secondvote</td>\n",
       "      <td>[adjustedincome, ml_degreestatus, ml_gender_fe...</td>\n",
       "      <td>0.343949</td>\n",
       "      <td>0.241071</td>\n",
       "      <td>0.6</td>\n",
       "      <td>0.6171</td>\n",
       "    </tr>\n",
       "  </tbody>\n",
       "</table>\n",
       "</div>"
      ],
      "text/plain": [
       "      Predictor                                           Features  F1 Score  \\\n",
       "256  secondvote  [adjustedincome, news_proportion, tf_idf_impor...  0.343949   \n",
       "328  secondvote  [adjustedincome, ml_employ, ml_married, ml_rel...  0.343949   \n",
       "331  secondvote  [adjustedincome, ml_married, ml_political_inte...  0.343949   \n",
       "333  secondvote  [adjustedincome, ml_employ, ml_married, ml_pol...  0.343949   \n",
       "334  secondvote  [adjustedincome, ml_degreestatus, ml_gender_fe...  0.343949   \n",
       "\n",
       "     Precision  Recall  Accuracy  \n",
       "256   0.241071     0.6    0.6171  \n",
       "328   0.241071     0.6    0.6171  \n",
       "331   0.241071     0.6    0.6171  \n",
       "333   0.241071     0.6    0.6171  \n",
       "334   0.241071     0.6    0.6171  "
      ]
     },
     "execution_count": 23,
     "metadata": {},
     "output_type": "execute_result"
    }
   ],
   "source": [
    "# Filter rows where 'Features' contains 'tf_idf_entity_weighted'\n",
    "filtered_df2 = top_5_df[top_5_df['Features'].apply(lambda x: 'tf_idf_importance_weighted' in x)]\n",
    "\n",
    "filtered_df2_sorted = filtered_df2.sort_values(by='F1 Score', ascending=False)\n",
    "filtered_df2_sorted.head()"
   ]
  },
  {
   "cell_type": "code",
   "execution_count": 24,
   "metadata": {},
   "outputs": [
    {
     "data": {
      "text/plain": [
       "[['adjustedincome', 'news_proportion', 'tf_idf_importance_weighted']]"
      ]
     },
     "execution_count": 24,
     "metadata": {},
     "output_type": "execute_result"
    }
   ],
   "source": [
    "list(filtered_df2_sorted['Features'][0:1])"
   ]
  },
  {
   "cell_type": "markdown",
   "metadata": {},
   "source": [
    "Just checking to see where the accuracies from above falls"
   ]
  },
  {
   "cell_type": "code",
   "execution_count": 25,
   "metadata": {},
   "outputs": [
    {
     "data": {
      "text/plain": [
       "0       0.617100\n",
       "193     0.617100\n",
       "263     0.617100\n",
       "262     0.617100\n",
       "261     0.617100\n",
       "          ...   \n",
       "5274    0.394052\n",
       "5275    0.394052\n",
       "5276    0.394052\n",
       "5277    0.394052\n",
       "5311    0.394052\n",
       "Name: Accuracy, Length: 6141, dtype: float64"
      ]
     },
     "execution_count": 25,
     "metadata": {},
     "output_type": "execute_result"
    }
   ],
   "source": [
    "top_5_df['Accuracy'].sort_values(ascending=False)"
   ]
  }
 ],
 "metadata": {
  "kernelspec": {
   "display_name": ".venv",
   "language": "python",
   "name": "python3"
  },
  "language_info": {
   "codemirror_mode": {
    "name": "ipython",
    "version": 3
   },
   "file_extension": ".py",
   "mimetype": "text/x-python",
   "name": "python",
   "nbconvert_exporter": "python",
   "pygments_lexer": "ipython3",
   "version": "3.11.9"
  }
 },
 "nbformat": 4,
 "nbformat_minor": 2
}
